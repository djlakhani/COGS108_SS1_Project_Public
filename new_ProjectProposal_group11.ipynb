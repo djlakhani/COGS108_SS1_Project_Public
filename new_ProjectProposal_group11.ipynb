{
 "cells": [
  {
   "cell_type": "markdown",
   "metadata": {},
   "source": [
    "# COGS 108 - Final Project Proposal"
   ]
  },
  {
   "cell_type": "markdown",
   "metadata": {},
   "source": [
    "# Names\n",
    "\n",
    "- Emi Lee\n",
    "- Cindy Luu\n",
    "- Neda Emdad\n",
    "- Erwin Miguel Olimpo\n",
    "- Calvin Nguyen\n",
    "- Diya Lakhani\n"
   ]
  },
  {
   "cell_type": "markdown",
   "metadata": {},
   "source": [
    "# Research Question"
   ]
  },
  {
   "cell_type": "markdown",
   "metadata": {},
   "source": [
    "\n",
    "How have UCSD students' grade point averages (GPAs) changed between the years 2000-2022? What factors have influenced these changes, considering the effects of:\n",
    "\n",
    "- (1) the recent COVID-19 pandemic on student GPAs\n",
    "- (2) the 2022 UCSD Academic Worker Strike on student GPAs\n",
    "- (3) the emergence of ChatGPT\n"
   ]
  },
  {
   "cell_type": "markdown",
   "metadata": {},
   "source": [
    "# Background and Prior Work"
   ]
  },
  {
   "cell_type": "markdown",
   "metadata": {},
   "source": [
    "\n",
    "  Between the years 2000 and 2022, the academic landscape at the University of California, San Diego (UCSD), underwent significant transformations, which could have had considerable effects on student grade point averages (GPAs). As educational institutions increasingly grapple with the issue of grade inflation, understanding the trends in UCSD student GPAs during this period becomes crucial. Grade inflation, characterized by an upward trend in average grades over time, has been a concern for educators and policymakers as it may impact the credibility of academic achievements. Thus, investigating the extent of grade inflation at UCSD, its causes, and its potential implications on student performance will provide valuable insights into the university's academic standards and policies.\n",
    "\n",
    "  Additionally, the research question delves into the influence of external factors that may have contributed to changes in student GPAs at UCSD. The outbreak of the COVID-19 pandemic in 2020 brought unprecedented disruptions to higher education, with universities finding that \"students improved their grades during COVID-19 due the use of online systems\" [^Clark et al.2021] which indicates \"a decline in performance...because of a drop in class attendance and student motivation\" [^Borgaonkar et al.2021]. Exploring how the pandemic affected student GPAs comparatively to pre-pandemic years will help assess the pandemic's academic toll and inform strategies for addressing learning challenges during crises. Furthermore, the 2022 UCSD Academic Worker Strike had a significant impact on campus life, affecting both teaching and support services since \"grades have been delayed\" [^Lozano2022]. Understanding its potential effects on student GPAs will offer insights into the broader implications of labor movements in academia. Lastly, the research question also considers the emergence of ChatGPT, an advanced language model, and its potential impact on student GPAs. As AI technologies increasingly become integrated into education, leaving \"many teachers spending more time checking for AI plagiarism and revamping lesson plans to be AI-proof\"[^Blose2023], exploring its influence on academic performance relative to the period before its adoption can shed light on the role of such tools in the learning process.\n",
    "  \n",
    "\n",
    "References: \n",
    "\n",
    "- [^Clark et al.2021]: Clark A.E., Nong H., Zhu H., Zhu R. Compensating for academic loss: Online learning and student performance during the COVID-19 pandemic. China Economic Review. 2021;68 doi: 10.1016/j.chieco.2021.101629. (https://www.ncbi.nlm.nih.gov/pmc/articles/PMC9760097/)\n",
    "- [^Borgaonkar et al.2021]: Borgaonkar A.D., Sodhi J., Vijayabalan R., Nair A.S.K.A. 2021 ASEE virtual annual conference content access. 2021. Comparative study of the impact of COVID-19 pandemic on student participation and performance in first-year engineering courses. (https://doi.org/10.18260%2F1-2--36566)\n",
    "- [^Lozano2022]: Alicia Victoria Lozano. Canceled lectures, no grades: University of California students face chaotic finals as academic workers strike. NBC U.S. News. (https://www.nbcnews.com/news/us-news/canceled-lectures-no-grades-university-california-students-face-chaoti-rcna60854)\n",
    "- [^Blose2023]: Abreanna Blose. As ChatGPT Enters the Classroom, Teachers Weigh Pros and Cons. National Education Association News. (https://www.nea.org/advocating-for-change/new-from-nea/chatgpt-enters-classroom-teachers-weigh-pros-and-cons)\n"
   ]
  },
  {
   "cell_type": "markdown",
   "metadata": {},
   "source": [
    "# Hypothesis\n"
   ]
  },
  {
   "cell_type": "markdown",
   "metadata": {},
   "source": [
    "\n",
    "Research Hypothesis:\n",
    "\n",
    "UCSD students' GPAs have experienced statistically significant grade inflation from the years 2000 to 2022, leading to a positive boost in student GPAs due to the impacts of specific factors including the recent COVID-19 pandemic, the 2022 UCSD Academic Worker Strike, and the emergence of ChatGPT compared to their respective pre-event periods.\n",
    "\n",
    "\n",
    "Null Hypothesis:\n",
    "\n",
    "There has been no statistically significant grade inflation or deflation in UCSD GPA between 2000 and 2022 due to the above factors.\n"
   ]
  },
  {
   "cell_type": "markdown",
   "metadata": {},
   "source": [
    "# Data"
   ]
  },
  {
   "cell_type": "markdown",
   "metadata": {},
   "source": [
    "\n",
    "To effectively answer the research question and test the associated hypotheses, an ideal dataset should be comprehensive and cover a wide range of variables that directly relate to UCSD student GPAs and the factors influencing them. The dataset should be collected over the years 2000 to 2022, including data points before, during, and after significant events such as the COVID-19 pandemic, the 2022 UCSD Academic Worker Strike, and the emergence of ChatGPT.\n",
    "\n",
    "\n",
    "Variables:\n",
    "\n",
    "- Academic Year: To distinguish between different academic years within the 2000-2022 time range.\n",
    "- Semester/Quarter: To differentiate between different terms in an academic year.\n",
    "- Course Grade: GPA is calculated based on individual course grades.\n",
    "- GPA: The overall cumulative GPA for each student or average GPA for each course.\n",
    "- Course Information: Details about the courses, including course code, title, and department.\n",
    "- Grade Distribution: The distribution of grades for each course to analyze grade inflation/deflation.\n",
    "- COVID-19 Impact Indicator: A binary variable to identify whether the semester/quarter was affected by the COVID-19 pandemic.\n",
    "- TA Strike Impact Indicator: A binary variable to identify whether the semester/quarter was impacted by the 2022 TA strike.\n",
    "- GPT Integration Indicator: A binary variable to indicate whether GPT or similar technologies were used during a semester/quarter.\n",
    "- Number of Observations: The ideal dataset should contain as many observations as possible to represent a diverse and representative sample of UCSD students throughout the specified time frame. This would include data for all students enrolled in courses during each academic year and for each semester/quarter within those years.\n",
    "\n",
    "\n",
    "Data Collection:\n",
    "The data could be collected through various means:\n",
    "\n",
    "- University Records: Cumulative GPAs, course grades, and student enrollment data can be obtained from university records and databases.\n",
    "- Course Evaluations: Course evaluations can provide insights into students' experiences and perceptions regarding influencing factors.\n",
    "\n",
    "An example of a dataset that we found to be highly useful is the UCSD CAPEs Data from Summer Session 2007 to Spring Quarter 2023, with data pertaining to instructors, their courses, the quarter/session they were held, total enrollments, total evaluations, grades expected, course recommendations, professor recommendations, study hours/week, average grades expected/received, and evaluation URLs. This dataset was found using Kaggle, at (https://www.kaggle.com/datasets/sanbornpnguyen/ucsdcapes?resource=download)\n",
    "\n",
    "\n",
    "Data Storage/Organization:\n",
    "\n",
    "The data should be stored in a structured format, such as a relational database or in a well-organized, rectangular or tabular CSV format. Each row would represent a unique observation (i.e., students' performance in a specific course), and each column would represent a variable. The dataset should be properly labeled, with clear headers and metadata, making it easy to understand and analyze. Data organization should allow for easy filtering and sorting to conduct analyses specific to the research questions. Additionally, to ensure data security and privacy compliance, any personally identifiable information should be anonymized or encrypted.\n"
   ]
  },
  {
   "cell_type": "markdown",
   "metadata": {},
   "source": [
    "# Ethics & Privacy"
   ]
  },
  {
   "cell_type": "markdown",
   "metadata": {},
   "source": [
    "\n",
    "As we delve into analyzing student GPAs and related factors, it is crucial to ensure that our research questions, data collection, and analysis are designed in a fair and unbiased manner, aiming to provide valuable insights without perpetuating harm or reinforcing any preconceived notions. Data collection must prioritize data privacy, and sensitive information should be anonymized to protect individual identities. To maintain data integrity and security, we plan to grant access only to authorized individuals. Regular maintenance will be performed to minimize the risk of data loss or unauthorized access. Addressing biases in the data and among the researchers themselves is vital. We will be transparent in reporting methodologies, assumptions, and potential limitations, striving for fairness and accountability in the study. Throughout the post-analysis phase, we will present findings responsibly, avoiding sensationalism and ensuring accuracy. Ethical dissemination of results will be prioritized, considering the potential impact on students, educational policies, and the university community. By adhering to rigorous ethical and privacy standards, our research will uphold integrity, promote trust, and contribute responsibly to the academic community.\n"
   ]
  },
  {
   "cell_type": "markdown",
   "metadata": {},
   "source": [
    "# Team Expectations "
   ]
  },
  {
   "cell_type": "markdown",
   "metadata": {},
   "source": [
    "\n",
    "* *If there is a dispute, we will attempt to resolve it internally. If the dispute is not resolved after multiple attempts, we will take it to the COGS 108 instructional team for further discussion.*\n",
    "* *The team’s communication will be conducted through text, email, and Zoom. Messages from teammates should be responded to within a reasonable timeframe (24 hours).*\n",
    "* *Complete tasks in a timely manner. If you need any assistance, reach out to each other in the groupchat.*\n",
    "* *Team members need to communicate adequately to make sure they are clear on their own responsibilities, raise issues that they notice, and ask for help when they need it.*\n",
    "* *Each individual team member will provide a roadmap at the meeting when assigning tasks to give the group an expectation of their final work quality. Then the group can address if their final work does not meet the standard that they had set for themselves.*\n",
    "* *If a team member misses a meeting, they are responsible for catching themselves up and asking the team for help if needed.*\n"
   ]
  },
  {
   "cell_type": "markdown",
   "metadata": {},
   "source": [
    "# Project Timeline Proposal"
   ]
  },
  {
   "cell_type": "markdown",
   "metadata": {},
   "source": [
    "\n",
    "| Meeting Date  | Meeting Time| Completed Before Meeting  | Discuss at Meeting |\n",
    "|---|---|---|---|\n",
    "| 7/11  |  7 PM | Brainstorm topics for final project; familiarize yourself with project guidelines and expectations | Discuss meeting schedule; begin Project Review Survey | \n",
    "| 7/12  |  7 PM |  Brainstorm topics for final project; review projects for Project Review Survey | Finalize Final Project topic; wrap up and turn in Project Review Survey; assign parts to each group member for Project Proposal | \n",
    "| 7/16  | 10 AM  | Project Proposal turned in; finalize research question; conduct more background research; research possible datasets | Discuss ideal datasets, wrangling techniques, and analytical approach   |\n",
    "| 7/19  | 7 PM  | Begin data collection and wrangling; Begin project check-in | Finalize and turn in project check-in   |\n",
    "| 7/23  | 10 AM  | Work on/finalize data wrangling; begin EDA | Finalize data collection and wrangling |\n",
    "| 7/26  | 7 PM  | Finalize EDA; Begin analysis| Discuss analysis and overall project |\n",
    "| 7/30  | 10 AM  | Finalize analysis; Begin drafting results/conclusion/discussion | Finalize and turn in project check-in |\n",
    "| 8/2  | 7 PM  | Edit/Finalize respective parts of Final Project | Make final edits as a group; turn in Final Project and Group Surveys |"
   ]
  }
 ],
 "metadata": {
  "kernelspec": {
   "display_name": "Python 3 (ipykernel)",
   "language": "python",
   "name": "python3"
  },
  "language_info": {
   "codemirror_mode": {
    "name": "ipython",
    "version": 3
   },
   "file_extension": ".py",
   "mimetype": "text/x-python",
   "name": "python",
   "nbconvert_exporter": "python",
   "pygments_lexer": "ipython3",
   "version": "3.9.5"
  }
 },
 "nbformat": 4,
 "nbformat_minor": 4
}
